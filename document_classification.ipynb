{
 "cells": [
  {
   "cell_type": "markdown",
   "metadata": {},
   "source": [
    "<h1 align = 'center'>Document Classification</h1>"
   ]
  },
  {
   "cell_type": "markdown",
   "metadata": {},
   "source": [
    "<h3>Avinash Pasupulate</h3>\n",
    "<br>\n",
    "<a href='mailto:avinash.pasupulate@gmail.com'><i>avinash.pasupulate@gmail.com</i></a>"
   ]
  },
  {
   "cell_type": "markdown",
   "metadata": {},
   "source": [
    " "
   ]
  },
  {
   "cell_type": "markdown",
   "metadata": {},
   "source": [
    "Status\n",
    "* Improving accuracy from \n",
    "<br>\n",
    "43%  - initial accuracy,\n",
    "<br>\n",
    "55.3% - Optimized min_df & max_df in tfidf,\n",
    "<br>\n",
    "75.7% - Included more data, Optimizing hypparms in logreg\n",
    "<br>\n",
    "79.20%  - Optimizing hypparms in random forest\n",
    "<br>\n",
    "80%  - Adding K Means cluster labels and optimizing with k at 65\n",
    "<br>\n",
    "current score 80%  \n",
    "* Optimizing hyperparameters"
   ]
  },
  {
   "cell_type": "markdown",
   "metadata": {},
   "source": [
    " "
   ]
  },
  {
   "cell_type": "code",
   "execution_count": 1,
   "metadata": {},
   "outputs": [],
   "source": [
    "import os\n",
    "import re\n",
    "import copy\n",
    "import string\n",
    "import random\n",
    "import numpy as np\n",
    "import pandas as pd\n",
    "import seaborn as sns\n",
    "from scipy import sparse\n",
    "from sklearn.svm import SVC\n",
    "from bs4 import BeautifulSoup\n",
    "from sklearn import preprocessing\n",
    "from nltk.corpus import stopwords\n",
    "from nltk import WordNetLemmatizer\n",
    "from sklearn.cluster import KMeans\n",
    "from sklearn.metrics import accuracy_score\n",
    "from sklearn.metrics import confusion_matrix\n",
    "from sklearn.naive_bayes import MultinomialNB\n",
    "from sklearn.neighbors import KNeighborsClassifier\n",
    "from sklearn.ensemble import RandomForestClassifier\n",
    "from sklearn.linear_model import LogisticRegression\n",
    "from sklearn.feature_extraction.text import TfidfVectorizer\n",
    "\n",
    "stopwrd = set(stopwords.words('english'))\n",
    "cwd = os.getcwd()\n",
    "random.seed(2889)"
   ]
  },
  {
   "cell_type": "markdown",
   "metadata": {},
   "source": [
    "Listing all files in directory"
   ]
  },
  {
   "cell_type": "code",
   "execution_count": 2,
   "metadata": {},
   "outputs": [],
   "source": [
    "#os.listdir(cwd+r'/data/reuters21578')"
   ]
  },
  {
   "cell_type": "code",
   "execution_count": 3,
   "metadata": {},
   "outputs": [],
   "source": [
    "data = cwd+r'/data/reuters21578'"
   ]
  },
  {
   "cell_type": "code",
   "execution_count": 4,
   "metadata": {},
   "outputs": [],
   "source": [
    "#creating a list of filenames to import\n",
    "\n",
    "l = list(range(0,22))\n",
    "m = []\n",
    "for i in l:\n",
    "    if len(str(i))==1:\n",
    "        filename = '/reut2-00'+str(i)+'.sgm'\n",
    "        m.append(filename)\n",
    "    else:\n",
    "        filename = '/reut2-0'+str(i)+'.sgm'\n",
    "        m.append(filename)"
   ]
  },
  {
   "cell_type": "code",
   "execution_count": 5,
   "metadata": {},
   "outputs": [],
   "source": [
    "#create dataframe with extracted text\n",
    "\n",
    "doc = pd.DataFrame()\n",
    "for i in m:\n",
    "    with open(data+i, 'rb') as f:\n",
    "        text = BeautifulSoup(f.read(), 'html.parser')\n",
    "        documents = text.findAll('reuters')\n",
    "        l=[]\n",
    "        for a in documents:\n",
    "            try:\n",
    "                topic = a.topics.find_all('d')[0].contents[0]\n",
    "                place = a.places.find_all('d')[0].contents[0]\n",
    "                title = a.title.contents[0].lower()\n",
    "                body = re.sub('\\n', ' ', a.body.contents[0].lower())\n",
    "                l.append([topic, place, title, body, i])\n",
    "            except:\n",
    "                pass\n",
    "        doc = doc.append(l, ignore_index = True, sort = True)\n",
    "doc.columns = ['topic', 'place', 'title', 'body', 'filename']"
   ]
  },
  {
   "cell_type": "code",
   "execution_count": 6,
   "metadata": {},
   "outputs": [
    {
     "name": "stdout",
     "output_type": "stream",
     "text": [
      "unique categories in text: 80 in 10327 rows\n"
     ]
    }
   ],
   "source": [
    "print(\"unique categories in text: {:} in {:} rows\"\n",
    "      .format(len(doc['topic'].unique()),len(doc['topic'])))"
   ]
  },
  {
   "cell_type": "markdown",
   "metadata": {},
   "source": [
    "The extracted text can be preprocessed but most of the stages are included in the tfid vectorizer functions."
   ]
  },
  {
   "cell_type": "markdown",
   "metadata": {},
   "source": [
    "#text pre-processing functions (not used)\n",
    "lemmatizer = WordNetLemmatizer()\n",
    "\n",
    "def remnum(x):\n",
    "    return re.sub('[0-9]', '', x)\n",
    "\n",
    "def rempunc(x):\n",
    "    return ''.join([w for w in x if w not in string.punctuation])\n",
    "\n",
    "def cltxt(x):\n",
    "    tok = [rempunc(remnum(i)) for i in x.split() \n",
    "     if (i not in stopwrd)]\n",
    "    cltxt1 = [lemmatizer.lemmatize(i) for i in tok if len(i)>2]\n",
    "    return ' '.join(i for i in cltxt1)"
   ]
  },
  {
   "cell_type": "code",
   "execution_count": 7,
   "metadata": {},
   "outputs": [],
   "source": [
    "encoder = preprocessing.LabelEncoder()\n",
    "tfidf_vector = TfidfVectorizer(analyzer = 'word',\n",
    "                               token_pattern = u'(?ui)\\\\b\\\\w*[a-z]+\\\\w*\\\\b',\n",
    "                               max_features = 100,\n",
    "                               lowercase = True,\n",
    "                               stop_words = 'english',\n",
    "                               max_df = 0.5,\n",
    "                               min_df = 0.01\n",
    "                              )"
   ]
  },
  {
   "cell_type": "code",
   "execution_count": 8,
   "metadata": {},
   "outputs": [],
   "source": [
    "doc['label'] = encoder.fit_transform(doc['topic'])"
   ]
  },
  {
   "cell_type": "code",
   "execution_count": 9,
   "metadata": {},
   "outputs": [],
   "source": [
    "from sklearn.model_selection import train_test_split"
   ]
  },
  {
   "cell_type": "code",
   "execution_count": 10,
   "metadata": {},
   "outputs": [],
   "source": [
    "X_train, X_test, y_train, y_test = train_test_split(\n",
    "    doc['body'], doc['label'], test_size = 0.25,\n",
    "    random_state = 28)\n",
    "actual = y_test"
   ]
  },
  {
   "cell_type": "code",
   "execution_count": 11,
   "metadata": {},
   "outputs": [],
   "source": [
    "#change variable type and pass\n",
    "#tfidf_vector = tfidf_vector.fit(doc['body'])"
   ]
  },
  {
   "cell_type": "code",
   "execution_count": 12,
   "metadata": {},
   "outputs": [],
   "source": [
    "#only transform on the test set\n",
    "X_train_tfidf_raw = tfidf_vector.fit_transform(X_train)\n",
    "X_test_tfidf_raw = tfidf_vector.transform(X_test)"
   ]
  },
  {
   "cell_type": "code",
   "execution_count": 13,
   "metadata": {},
   "outputs": [],
   "source": [
    "X_train_df = pd.DataFrame(X_train_tfidf_raw.todense(),\n",
    "             columns = tfidf_vector.get_feature_names())\n",
    "\n",
    "X_test_df = pd.DataFrame(X_test_tfidf_raw.todense(),\n",
    "             columns = tfidf_vector.get_feature_names())"
   ]
  },
  {
   "cell_type": "markdown",
   "metadata": {},
   "source": [
    "<h3>K Means Clustering</h3>"
   ]
  },
  {
   "cell_type": "code",
   "execution_count": 14,
   "metadata": {},
   "outputs": [],
   "source": [
    "kmod = KMeans(n_clusters = 65, random_state = 28)\n",
    "ktrainfit = kmod.fit(X_train_df)\n",
    "ktestfit = ktrainfit.predict(X_test_tfidf_raw)"
   ]
  },
  {
   "cell_type": "code",
   "execution_count": 15,
   "metadata": {},
   "outputs": [],
   "source": [
    "X_train_df['train_clust'] = ktrainfit.labels_[:,None]\n",
    "X_test_df['train_clust'] = ktestfit[:,None]"
   ]
  },
  {
   "cell_type": "code",
   "execution_count": 16,
   "metadata": {},
   "outputs": [],
   "source": [
    "X_train_tfidf = X_train_df\n",
    "X_test_tfidf = X_test_df"
   ]
  },
  {
   "cell_type": "code",
   "execution_count": 17,
   "metadata": {},
   "outputs": [],
   "source": [
    "#X_train_tfidf = sparse.hstack((X_train_tfidf_raw, ktrainfit.labels_[:,None]))\n",
    "#X_test_tfidf = sparse.hstack((X_test_tfidf_raw, ktestfit[:,None]))"
   ]
  },
  {
   "cell_type": "markdown",
   "metadata": {},
   "source": [
    "<h3>Support Vector Machine Classifier</h3>"
   ]
  },
  {
   "cell_type": "code",
   "execution_count": 18,
   "metadata": {},
   "outputs": [
    {
     "data": {
      "text/plain": [
       "0.6673121611154144"
      ]
     },
     "execution_count": 18,
     "metadata": {},
     "output_type": "execute_result"
    }
   ],
   "source": [
    "svcmod = SVC(kernel = 'poly',\n",
    "             C=1,\n",
    "             gamma = 'auto')\n",
    "svcfit = svcmod.fit(X_train_tfidf, y_train)\n",
    "svc_pred = svcfit.predict(X_test_tfidf)\n",
    "accuracy_score(actual, svc_pred)"
   ]
  },
  {
   "cell_type": "markdown",
   "metadata": {},
   "source": [
    "<h3>Multinomial Naive Bayes Classifier</h3>"
   ]
  },
  {
   "cell_type": "code",
   "execution_count": 19,
   "metadata": {},
   "outputs": [
    {
     "data": {
      "text/plain": [
       "0.7327652982184353"
      ]
     },
     "execution_count": 19,
     "metadata": {},
     "output_type": "execute_result"
    }
   ],
   "source": [
    "mnb_mod = MultinomialNB(alpha = 0.01)\n",
    "mnb_fit = mnb_mod.fit(X_train_tfidf, y_train)\n",
    "mnb_score = accuracy_score(actual, mnb_fit.predict(X_test_tfidf))\n",
    "mnb_score"
   ]
  },
  {
   "cell_type": "markdown",
   "metadata": {},
   "source": [
    "<h3>Multiclass Regression Classifier</h3>"
   ]
  },
  {
   "cell_type": "code",
   "execution_count": 20,
   "metadata": {},
   "outputs": [
    {
     "name": "stderr",
     "output_type": "stream",
     "text": [
      "/Users/Avinash/anaconda3/lib/python3.5/site-packages/sklearn/linear_model/sag.py:334: ConvergenceWarning: The max_iter was reached which means the coef_ did not converge\n",
      "  \"the coef_ did not converge\", ConvergenceWarning)\n"
     ]
    },
    {
     "data": {
      "text/plain": [
       "0.762587141750581"
      ]
     },
     "execution_count": 20,
     "metadata": {},
     "output_type": "execute_result"
    }
   ],
   "source": [
    "logmod = LogisticRegression(multi_class='multinomial',\n",
    "                            solver='saga',\n",
    "                            C=1,\n",
    "                            penalty = 'l2',\n",
    "                            random_state = 28,\n",
    "                            max_iter = 1000,\n",
    "                            n_jobs = -1)\n",
    "logfit = logmod.fit(X_train_tfidf, y_train)\n",
    "accuracy_score(actual, logfit.predict(X_test_tfidf))\n",
    "#0.773431448489543"
   ]
  },
  {
   "cell_type": "markdown",
   "metadata": {},
   "source": [
    "<h3>K Nearest Neighbors Classifier</h3>"
   ]
  },
  {
   "cell_type": "code",
   "execution_count": 21,
   "metadata": {},
   "outputs": [
    {
     "data": {
      "text/plain": [
       "0.7292796281951975"
      ]
     },
     "execution_count": 21,
     "metadata": {},
     "output_type": "execute_result"
    }
   ],
   "source": [
    "knnmod = KNeighborsClassifier(n_neighbors = 10,\n",
    "                              n_jobs = -1)\n",
    "knnfit = knnmod.fit(X_train_tfidf, y_train)\n",
    "accuracy_score(actual, knnfit.predict(X_test_tfidf))\n",
    "#0.7467079783113865"
   ]
  },
  {
   "cell_type": "markdown",
   "metadata": {},
   "source": [
    "<h3>Random Forest Classifier</h3>"
   ]
  },
  {
   "cell_type": "code",
   "execution_count": 22,
   "metadata": {},
   "outputs": [
    {
     "data": {
      "text/plain": [
       "0.8001549186676995"
      ]
     },
     "execution_count": 22,
     "metadata": {},
     "output_type": "execute_result"
    }
   ],
   "source": [
    "rfmod = RandomForestClassifier(n_estimators = 250,\n",
    "                               random_state = 28,\n",
    "                               criterion = 'gini',\n",
    "                               bootstrap = False,\n",
    "                               max_depth = 100,\n",
    "                               n_jobs = -1)\n",
    "rffit = rfmod.fit(X_train_tfidf, y_train)\n",
    "accuracy_score(actual, rffit.predict(X_test_tfidf))"
   ]
  },
  {
   "cell_type": "code",
   "execution_count": 23,
   "metadata": {},
   "outputs": [
    {
     "data": {
      "text/plain": [
       "<matplotlib.axes._subplots.AxesSubplot at 0x1a285cc2b0>"
      ]
     },
     "execution_count": 23,
     "metadata": {},
     "output_type": "execute_result"
    },
    {
     "data": {
      "image/png": "[encoded data removed]",
      "text/plain": [
       "<Figure size 432x288 with 2 Axes>"
      ]
     },
     "metadata": {
      "needs_background": "light"
     },
     "output_type": "display_data"
    }
   ],
   "source": [
    "#too many labels conf mat not easy to intepret\n",
    "sns.heatmap(confusion_matrix(actual, rffit.predict(X_test_tfidf)).T, fmt='d', \n",
    "           cmap = sns.cm.rocket_r)"
   ]
  },
  {
   "cell_type": "markdown",
   "metadata": {},
   "source": []
  },
  {
   "cell_type": "markdown",
   "metadata": {},
   "source": [
    "Use more optimization methods (cv, bagging, boosting (improved bootstrapping) & stacking), and extract more information from data to try improve on accuracy > 80% (80% is good)."
   ]
  }
 ],
 "metadata": {
  "kernelspec": {
   "display_name": "Python 3",
   "language": "python",
   "name": "python3"
  },
  "language_info": {
   "codemirror_mode": {
    "name": "ipython",
    "version": 3
   },
   "file_extension": ".py",
   "mimetype": "text/x-python",
   "name": "python",
   "nbconvert_exporter": "python",
   "pygments_lexer": "ipython3",
   "version": "3.5.6"
  }
 },
 "nbformat": 4,
 "nbformat_minor": 2
}
